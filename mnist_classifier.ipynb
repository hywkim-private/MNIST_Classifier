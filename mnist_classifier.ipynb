{
  "nbformat": 4,
  "nbformat_minor": 5,
  "metadata": {
    "accelerator": "GPU",
    "colab": {
      "name": "mnist_classifier.ipynb",
      "provenance": [],
      "collapsed_sections": [],
      "machine_shape": "hm",
      "include_colab_link": true
    },
    "kernelspec": {
      "display_name": "Python 3",
      "name": "python3"
    },
    "language_info": {
      "name": "python"
    },
    "widgets": {
      "application/vnd.jupyter.widget-state+json": {
        "850b16e28828496ea6bde339b332a6e8": {
          "model_module": "@jupyter-widgets/controls",
          "model_name": "HBoxModel",
          "state": {
            "_view_name": "HBoxView",
            "_dom_classes": [],
            "_model_name": "HBoxModel",
            "_view_module": "@jupyter-widgets/controls",
            "_model_module_version": "1.5.0",
            "_view_count": null,
            "_view_module_version": "1.5.0",
            "box_style": "",
            "layout": "IPY_MODEL_64c6f8c15b4f405980f25685d833824c",
            "_model_module": "@jupyter-widgets/controls",
            "children": [
              "IPY_MODEL_73636e0504074da4b0363601a3e62bba",
              "IPY_MODEL_fc2d372dccb04753b12c5ad9162dbe64"
            ]
          }
        },
        "64c6f8c15b4f405980f25685d833824c": {
          "model_module": "@jupyter-widgets/base",
          "model_name": "LayoutModel",
          "state": {
            "_view_name": "LayoutView",
            "grid_template_rows": null,
            "right": null,
            "justify_content": null,
            "_view_module": "@jupyter-widgets/base",
            "overflow": null,
            "_model_module_version": "1.2.0",
            "_view_count": null,
            "flex_flow": null,
            "width": null,
            "min_width": null,
            "border": null,
            "align_items": null,
            "bottom": null,
            "_model_module": "@jupyter-widgets/base",
            "top": null,
            "grid_column": null,
            "overflow_y": null,
            "overflow_x": null,
            "grid_auto_flow": null,
            "grid_area": null,
            "grid_template_columns": null,
            "flex": null,
            "_model_name": "LayoutModel",
            "justify_items": null,
            "grid_row": null,
            "max_height": null,
            "align_content": null,
            "visibility": null,
            "align_self": null,
            "height": null,
            "min_height": null,
            "padding": null,
            "grid_auto_rows": null,
            "grid_gap": null,
            "max_width": null,
            "order": null,
            "_view_module_version": "1.2.0",
            "grid_template_areas": null,
            "object_position": null,
            "object_fit": null,
            "grid_auto_columns": null,
            "margin": null,
            "display": null,
            "left": null
          }
        },
        "73636e0504074da4b0363601a3e62bba": {
          "model_module": "@jupyter-widgets/controls",
          "model_name": "FloatProgressModel",
          "state": {
            "_view_name": "ProgressView",
            "style": "IPY_MODEL_a241563dac3c4dd89c8e9f2869eb13dc",
            "_dom_classes": [],
            "description": "",
            "_model_name": "FloatProgressModel",
            "bar_style": "success",
            "max": 9912422,
            "_view_module": "@jupyter-widgets/controls",
            "_model_module_version": "1.5.0",
            "value": 9912422,
            "_view_count": null,
            "_view_module_version": "1.5.0",
            "orientation": "horizontal",
            "min": 0,
            "description_tooltip": null,
            "_model_module": "@jupyter-widgets/controls",
            "layout": "IPY_MODEL_4307245d28194b43b0226b381f521ee2"
          }
        },
        "fc2d372dccb04753b12c5ad9162dbe64": {
          "model_module": "@jupyter-widgets/controls",
          "model_name": "HTMLModel",
          "state": {
            "_view_name": "HTMLView",
            "style": "IPY_MODEL_89b9e6d6407643ecb2120a4c41856280",
            "_dom_classes": [],
            "description": "",
            "_model_name": "HTMLModel",
            "placeholder": "​",
            "_view_module": "@jupyter-widgets/controls",
            "_model_module_version": "1.5.0",
            "value": " 9913344/? [04:55&lt;00:00, 33578.82it/s]",
            "_view_count": null,
            "_view_module_version": "1.5.0",
            "description_tooltip": null,
            "_model_module": "@jupyter-widgets/controls",
            "layout": "IPY_MODEL_e1e46e606bb14f5e94d4f2e1c6f282ab"
          }
        },
        "a241563dac3c4dd89c8e9f2869eb13dc": {
          "model_module": "@jupyter-widgets/controls",
          "model_name": "ProgressStyleModel",
          "state": {
            "_view_name": "StyleView",
            "_model_name": "ProgressStyleModel",
            "description_width": "initial",
            "_view_module": "@jupyter-widgets/base",
            "_model_module_version": "1.5.0",
            "_view_count": null,
            "_view_module_version": "1.2.0",
            "bar_color": null,
            "_model_module": "@jupyter-widgets/controls"
          }
        },
        "4307245d28194b43b0226b381f521ee2": {
          "model_module": "@jupyter-widgets/base",
          "model_name": "LayoutModel",
          "state": {
            "_view_name": "LayoutView",
            "grid_template_rows": null,
            "right": null,
            "justify_content": null,
            "_view_module": "@jupyter-widgets/base",
            "overflow": null,
            "_model_module_version": "1.2.0",
            "_view_count": null,
            "flex_flow": null,
            "width": null,
            "min_width": null,
            "border": null,
            "align_items": null,
            "bottom": null,
            "_model_module": "@jupyter-widgets/base",
            "top": null,
            "grid_column": null,
            "overflow_y": null,
            "overflow_x": null,
            "grid_auto_flow": null,
            "grid_area": null,
            "grid_template_columns": null,
            "flex": null,
            "_model_name": "LayoutModel",
            "justify_items": null,
            "grid_row": null,
            "max_height": null,
            "align_content": null,
            "visibility": null,
            "align_self": null,
            "height": null,
            "min_height": null,
            "padding": null,
            "grid_auto_rows": null,
            "grid_gap": null,
            "max_width": null,
            "order": null,
            "_view_module_version": "1.2.0",
            "grid_template_areas": null,
            "object_position": null,
            "object_fit": null,
            "grid_auto_columns": null,
            "margin": null,
            "display": null,
            "left": null
          }
        },
        "89b9e6d6407643ecb2120a4c41856280": {
          "model_module": "@jupyter-widgets/controls",
          "model_name": "DescriptionStyleModel",
          "state": {
            "_view_name": "StyleView",
            "_model_name": "DescriptionStyleModel",
            "description_width": "",
            "_view_module": "@jupyter-widgets/base",
            "_model_module_version": "1.5.0",
            "_view_count": null,
            "_view_module_version": "1.2.0",
            "_model_module": "@jupyter-widgets/controls"
          }
        },
        "e1e46e606bb14f5e94d4f2e1c6f282ab": {
          "model_module": "@jupyter-widgets/base",
          "model_name": "LayoutModel",
          "state": {
            "_view_name": "LayoutView",
            "grid_template_rows": null,
            "right": null,
            "justify_content": null,
            "_view_module": "@jupyter-widgets/base",
            "overflow": null,
            "_model_module_version": "1.2.0",
            "_view_count": null,
            "flex_flow": null,
            "width": null,
            "min_width": null,
            "border": null,
            "align_items": null,
            "bottom": null,
            "_model_module": "@jupyter-widgets/base",
            "top": null,
            "grid_column": null,
            "overflow_y": null,
            "overflow_x": null,
            "grid_auto_flow": null,
            "grid_area": null,
            "grid_template_columns": null,
            "flex": null,
            "_model_name": "LayoutModel",
            "justify_items": null,
            "grid_row": null,
            "max_height": null,
            "align_content": null,
            "visibility": null,
            "align_self": null,
            "height": null,
            "min_height": null,
            "padding": null,
            "grid_auto_rows": null,
            "grid_gap": null,
            "max_width": null,
            "order": null,
            "_view_module_version": "1.2.0",
            "grid_template_areas": null,
            "object_position": null,
            "object_fit": null,
            "grid_auto_columns": null,
            "margin": null,
            "display": null,
            "left": null
          }
        },
        "dba49ae1492f411db7e22700cc91735c": {
          "model_module": "@jupyter-widgets/controls",
          "model_name": "HBoxModel",
          "state": {
            "_view_name": "HBoxView",
            "_dom_classes": [],
            "_model_name": "HBoxModel",
            "_view_module": "@jupyter-widgets/controls",
            "_model_module_version": "1.5.0",
            "_view_count": null,
            "_view_module_version": "1.5.0",
            "box_style": "",
            "layout": "IPY_MODEL_a5c26d88b3a846f39afb07af94bf7850",
            "_model_module": "@jupyter-widgets/controls",
            "children": [
              "IPY_MODEL_1d8107e20feb424295284b3bcfc910a6",
              "IPY_MODEL_f8165ba165ce4c6ea7adc900aea578ce"
            ]
          }
        },
        "a5c26d88b3a846f39afb07af94bf7850": {
          "model_module": "@jupyter-widgets/base",
          "model_name": "LayoutModel",
          "state": {
            "_view_name": "LayoutView",
            "grid_template_rows": null,
            "right": null,
            "justify_content": null,
            "_view_module": "@jupyter-widgets/base",
            "overflow": null,
            "_model_module_version": "1.2.0",
            "_view_count": null,
            "flex_flow": null,
            "width": null,
            "min_width": null,
            "border": null,
            "align_items": null,
            "bottom": null,
            "_model_module": "@jupyter-widgets/base",
            "top": null,
            "grid_column": null,
            "overflow_y": null,
            "overflow_x": null,
            "grid_auto_flow": null,
            "grid_area": null,
            "grid_template_columns": null,
            "flex": null,
            "_model_name": "LayoutModel",
            "justify_items": null,
            "grid_row": null,
            "max_height": null,
            "align_content": null,
            "visibility": null,
            "align_self": null,
            "height": null,
            "min_height": null,
            "padding": null,
            "grid_auto_rows": null,
            "grid_gap": null,
            "max_width": null,
            "order": null,
            "_view_module_version": "1.2.0",
            "grid_template_areas": null,
            "object_position": null,
            "object_fit": null,
            "grid_auto_columns": null,
            "margin": null,
            "display": null,
            "left": null
          }
        },
        "1d8107e20feb424295284b3bcfc910a6": {
          "model_module": "@jupyter-widgets/controls",
          "model_name": "FloatProgressModel",
          "state": {
            "_view_name": "ProgressView",
            "style": "IPY_MODEL_6a10123f4d154ed081f56bcd696292d8",
            "_dom_classes": [],
            "description": "",
            "_model_name": "FloatProgressModel",
            "bar_style": "success",
            "max": 28881,
            "_view_module": "@jupyter-widgets/controls",
            "_model_module_version": "1.5.0",
            "value": 28881,
            "_view_count": null,
            "_view_module_version": "1.5.0",
            "orientation": "horizontal",
            "min": 0,
            "description_tooltip": null,
            "_model_module": "@jupyter-widgets/controls",
            "layout": "IPY_MODEL_0b94b662f0254bb68b575b6f36e67c8c"
          }
        },
        "f8165ba165ce4c6ea7adc900aea578ce": {
          "model_module": "@jupyter-widgets/controls",
          "model_name": "HTMLModel",
          "state": {
            "_view_name": "HTMLView",
            "style": "IPY_MODEL_80d7e64a674843b4b4178a8d151cb6e6",
            "_dom_classes": [],
            "description": "",
            "_model_name": "HTMLModel",
            "placeholder": "​",
            "_view_module": "@jupyter-widgets/controls",
            "_model_module_version": "1.5.0",
            "value": " 29696/? [00:00&lt;00:00, 29761.07it/s]",
            "_view_count": null,
            "_view_module_version": "1.5.0",
            "description_tooltip": null,
            "_model_module": "@jupyter-widgets/controls",
            "layout": "IPY_MODEL_cb4af30634b346cd943838c265c2976a"
          }
        },
        "6a10123f4d154ed081f56bcd696292d8": {
          "model_module": "@jupyter-widgets/controls",
          "model_name": "ProgressStyleModel",
          "state": {
            "_view_name": "StyleView",
            "_model_name": "ProgressStyleModel",
            "description_width": "initial",
            "_view_module": "@jupyter-widgets/base",
            "_model_module_version": "1.5.0",
            "_view_count": null,
            "_view_module_version": "1.2.0",
            "bar_color": null,
            "_model_module": "@jupyter-widgets/controls"
          }
        },
        "0b94b662f0254bb68b575b6f36e67c8c": {
          "model_module": "@jupyter-widgets/base",
          "model_name": "LayoutModel",
          "state": {
            "_view_name": "LayoutView",
            "grid_template_rows": null,
            "right": null,
            "justify_content": null,
            "_view_module": "@jupyter-widgets/base",
            "overflow": null,
            "_model_module_version": "1.2.0",
            "_view_count": null,
            "flex_flow": null,
            "width": null,
            "min_width": null,
            "border": null,
            "align_items": null,
            "bottom": null,
            "_model_module": "@jupyter-widgets/base",
            "top": null,
            "grid_column": null,
            "overflow_y": null,
            "overflow_x": null,
            "grid_auto_flow": null,
            "grid_area": null,
            "grid_template_columns": null,
            "flex": null,
            "_model_name": "LayoutModel",
            "justify_items": null,
            "grid_row": null,
            "max_height": null,
            "align_content": null,
            "visibility": null,
            "align_self": null,
            "height": null,
            "min_height": null,
            "padding": null,
            "grid_auto_rows": null,
            "grid_gap": null,
            "max_width": null,
            "order": null,
            "_view_module_version": "1.2.0",
            "grid_template_areas": null,
            "object_position": null,
            "object_fit": null,
            "grid_auto_columns": null,
            "margin": null,
            "display": null,
            "left": null
          }
        },
        "80d7e64a674843b4b4178a8d151cb6e6": {
          "model_module": "@jupyter-widgets/controls",
          "model_name": "DescriptionStyleModel",
          "state": {
            "_view_name": "StyleView",
            "_model_name": "DescriptionStyleModel",
            "description_width": "",
            "_view_module": "@jupyter-widgets/base",
            "_model_module_version": "1.5.0",
            "_view_count": null,
            "_view_module_version": "1.2.0",
            "_model_module": "@jupyter-widgets/controls"
          }
        },
        "cb4af30634b346cd943838c265c2976a": {
          "model_module": "@jupyter-widgets/base",
          "model_name": "LayoutModel",
          "state": {
            "_view_name": "LayoutView",
            "grid_template_rows": null,
            "right": null,
            "justify_content": null,
            "_view_module": "@jupyter-widgets/base",
            "overflow": null,
            "_model_module_version": "1.2.0",
            "_view_count": null,
            "flex_flow": null,
            "width": null,
            "min_width": null,
            "border": null,
            "align_items": null,
            "bottom": null,
            "_model_module": "@jupyter-widgets/base",
            "top": null,
            "grid_column": null,
            "overflow_y": null,
            "overflow_x": null,
            "grid_auto_flow": null,
            "grid_area": null,
            "grid_template_columns": null,
            "flex": null,
            "_model_name": "LayoutModel",
            "justify_items": null,
            "grid_row": null,
            "max_height": null,
            "align_content": null,
            "visibility": null,
            "align_self": null,
            "height": null,
            "min_height": null,
            "padding": null,
            "grid_auto_rows": null,
            "grid_gap": null,
            "max_width": null,
            "order": null,
            "_view_module_version": "1.2.0",
            "grid_template_areas": null,
            "object_position": null,
            "object_fit": null,
            "grid_auto_columns": null,
            "margin": null,
            "display": null,
            "left": null
          }
        },
        "b7217129b38143e691bb47aa77395432": {
          "model_module": "@jupyter-widgets/controls",
          "model_name": "HBoxModel",
          "state": {
            "_view_name": "HBoxView",
            "_dom_classes": [],
            "_model_name": "HBoxModel",
            "_view_module": "@jupyter-widgets/controls",
            "_model_module_version": "1.5.0",
            "_view_count": null,
            "_view_module_version": "1.5.0",
            "box_style": "",
            "layout": "IPY_MODEL_01228e0b79f143dcb461e86e6dd46f25",
            "_model_module": "@jupyter-widgets/controls",
            "children": [
              "IPY_MODEL_96404a60a0564d3e8dbef4af11efbcd7",
              "IPY_MODEL_bff912f8429944279b124b55227aea16"
            ]
          }
        },
        "01228e0b79f143dcb461e86e6dd46f25": {
          "model_module": "@jupyter-widgets/base",
          "model_name": "LayoutModel",
          "state": {
            "_view_name": "LayoutView",
            "grid_template_rows": null,
            "right": null,
            "justify_content": null,
            "_view_module": "@jupyter-widgets/base",
            "overflow": null,
            "_model_module_version": "1.2.0",
            "_view_count": null,
            "flex_flow": null,
            "width": null,
            "min_width": null,
            "border": null,
            "align_items": null,
            "bottom": null,
            "_model_module": "@jupyter-widgets/base",
            "top": null,
            "grid_column": null,
            "overflow_y": null,
            "overflow_x": null,
            "grid_auto_flow": null,
            "grid_area": null,
            "grid_template_columns": null,
            "flex": null,
            "_model_name": "LayoutModel",
            "justify_items": null,
            "grid_row": null,
            "max_height": null,
            "align_content": null,
            "visibility": null,
            "align_self": null,
            "height": null,
            "min_height": null,
            "padding": null,
            "grid_auto_rows": null,
            "grid_gap": null,
            "max_width": null,
            "order": null,
            "_view_module_version": "1.2.0",
            "grid_template_areas": null,
            "object_position": null,
            "object_fit": null,
            "grid_auto_columns": null,
            "margin": null,
            "display": null,
            "left": null
          }
        },
        "96404a60a0564d3e8dbef4af11efbcd7": {
          "model_module": "@jupyter-widgets/controls",
          "model_name": "FloatProgressModel",
          "state": {
            "_view_name": "ProgressView",
            "style": "IPY_MODEL_2559f668304d4c468d6c63fc90489214",
            "_dom_classes": [],
            "description": "",
            "_model_name": "FloatProgressModel",
            "bar_style": "success",
            "max": 1648877,
            "_view_module": "@jupyter-widgets/controls",
            "_model_module_version": "1.5.0",
            "value": 1648877,
            "_view_count": null,
            "_view_module_version": "1.5.0",
            "orientation": "horizontal",
            "min": 0,
            "description_tooltip": null,
            "_model_module": "@jupyter-widgets/controls",
            "layout": "IPY_MODEL_0ada3f0b530d4a4a95e34e7dda631dfe"
          }
        },
        "bff912f8429944279b124b55227aea16": {
          "model_module": "@jupyter-widgets/controls",
          "model_name": "HTMLModel",
          "state": {
            "_view_name": "HTMLView",
            "style": "IPY_MODEL_653be3df4b854be28127b315fe04cdce",
            "_dom_classes": [],
            "description": "",
            "_model_name": "HTMLModel",
            "placeholder": "​",
            "_view_module": "@jupyter-widgets/controls",
            "_model_module_version": "1.5.0",
            "value": " 1649664/? [00:00&lt;00:00, 3089439.59it/s]",
            "_view_count": null,
            "_view_module_version": "1.5.0",
            "description_tooltip": null,
            "_model_module": "@jupyter-widgets/controls",
            "layout": "IPY_MODEL_8d96b09e7008492daad733e64ccf3475"
          }
        },
        "2559f668304d4c468d6c63fc90489214": {
          "model_module": "@jupyter-widgets/controls",
          "model_name": "ProgressStyleModel",
          "state": {
            "_view_name": "StyleView",
            "_model_name": "ProgressStyleModel",
            "description_width": "initial",
            "_view_module": "@jupyter-widgets/base",
            "_model_module_version": "1.5.0",
            "_view_count": null,
            "_view_module_version": "1.2.0",
            "bar_color": null,
            "_model_module": "@jupyter-widgets/controls"
          }
        },
        "0ada3f0b530d4a4a95e34e7dda631dfe": {
          "model_module": "@jupyter-widgets/base",
          "model_name": "LayoutModel",
          "state": {
            "_view_name": "LayoutView",
            "grid_template_rows": null,
            "right": null,
            "justify_content": null,
            "_view_module": "@jupyter-widgets/base",
            "overflow": null,
            "_model_module_version": "1.2.0",
            "_view_count": null,
            "flex_flow": null,
            "width": null,
            "min_width": null,
            "border": null,
            "align_items": null,
            "bottom": null,
            "_model_module": "@jupyter-widgets/base",
            "top": null,
            "grid_column": null,
            "overflow_y": null,
            "overflow_x": null,
            "grid_auto_flow": null,
            "grid_area": null,
            "grid_template_columns": null,
            "flex": null,
            "_model_name": "LayoutModel",
            "justify_items": null,
            "grid_row": null,
            "max_height": null,
            "align_content": null,
            "visibility": null,
            "align_self": null,
            "height": null,
            "min_height": null,
            "padding": null,
            "grid_auto_rows": null,
            "grid_gap": null,
            "max_width": null,
            "order": null,
            "_view_module_version": "1.2.0",
            "grid_template_areas": null,
            "object_position": null,
            "object_fit": null,
            "grid_auto_columns": null,
            "margin": null,
            "display": null,
            "left": null
          }
        },
        "653be3df4b854be28127b315fe04cdce": {
          "model_module": "@jupyter-widgets/controls",
          "model_name": "DescriptionStyleModel",
          "state": {
            "_view_name": "StyleView",
            "_model_name": "DescriptionStyleModel",
            "description_width": "",
            "_view_module": "@jupyter-widgets/base",
            "_model_module_version": "1.5.0",
            "_view_count": null,
            "_view_module_version": "1.2.0",
            "_model_module": "@jupyter-widgets/controls"
          }
        },
        "8d96b09e7008492daad733e64ccf3475": {
          "model_module": "@jupyter-widgets/base",
          "model_name": "LayoutModel",
          "state": {
            "_view_name": "LayoutView",
            "grid_template_rows": null,
            "right": null,
            "justify_content": null,
            "_view_module": "@jupyter-widgets/base",
            "overflow": null,
            "_model_module_version": "1.2.0",
            "_view_count": null,
            "flex_flow": null,
            "width": null,
            "min_width": null,
            "border": null,
            "align_items": null,
            "bottom": null,
            "_model_module": "@jupyter-widgets/base",
            "top": null,
            "grid_column": null,
            "overflow_y": null,
            "overflow_x": null,
            "grid_auto_flow": null,
            "grid_area": null,
            "grid_template_columns": null,
            "flex": null,
            "_model_name": "LayoutModel",
            "justify_items": null,
            "grid_row": null,
            "max_height": null,
            "align_content": null,
            "visibility": null,
            "align_self": null,
            "height": null,
            "min_height": null,
            "padding": null,
            "grid_auto_rows": null,
            "grid_gap": null,
            "max_width": null,
            "order": null,
            "_view_module_version": "1.2.0",
            "grid_template_areas": null,
            "object_position": null,
            "object_fit": null,
            "grid_auto_columns": null,
            "margin": null,
            "display": null,
            "left": null
          }
        },
        "e0182f82ae06405488d593536c817c37": {
          "model_module": "@jupyter-widgets/controls",
          "model_name": "HBoxModel",
          "state": {
            "_view_name": "HBoxView",
            "_dom_classes": [],
            "_model_name": "HBoxModel",
            "_view_module": "@jupyter-widgets/controls",
            "_model_module_version": "1.5.0",
            "_view_count": null,
            "_view_module_version": "1.5.0",
            "box_style": "",
            "layout": "IPY_MODEL_3fd6e0ebc9c54511bac01b05ae57a190",
            "_model_module": "@jupyter-widgets/controls",
            "children": [
              "IPY_MODEL_165b9b4acca849339d28b75a062980d3",
              "IPY_MODEL_a635125654bd4b08a8c39ec57bb71212"
            ]
          }
        },
        "3fd6e0ebc9c54511bac01b05ae57a190": {
          "model_module": "@jupyter-widgets/base",
          "model_name": "LayoutModel",
          "state": {
            "_view_name": "LayoutView",
            "grid_template_rows": null,
            "right": null,
            "justify_content": null,
            "_view_module": "@jupyter-widgets/base",
            "overflow": null,
            "_model_module_version": "1.2.0",
            "_view_count": null,
            "flex_flow": null,
            "width": null,
            "min_width": null,
            "border": null,
            "align_items": null,
            "bottom": null,
            "_model_module": "@jupyter-widgets/base",
            "top": null,
            "grid_column": null,
            "overflow_y": null,
            "overflow_x": null,
            "grid_auto_flow": null,
            "grid_area": null,
            "grid_template_columns": null,
            "flex": null,
            "_model_name": "LayoutModel",
            "justify_items": null,
            "grid_row": null,
            "max_height": null,
            "align_content": null,
            "visibility": null,
            "align_self": null,
            "height": null,
            "min_height": null,
            "padding": null,
            "grid_auto_rows": null,
            "grid_gap": null,
            "max_width": null,
            "order": null,
            "_view_module_version": "1.2.0",
            "grid_template_areas": null,
            "object_position": null,
            "object_fit": null,
            "grid_auto_columns": null,
            "margin": null,
            "display": null,
            "left": null
          }
        },
        "165b9b4acca849339d28b75a062980d3": {
          "model_module": "@jupyter-widgets/controls",
          "model_name": "FloatProgressModel",
          "state": {
            "_view_name": "ProgressView",
            "style": "IPY_MODEL_85196cdc87da4da79f1dcc5f971f41cb",
            "_dom_classes": [],
            "description": "",
            "_model_name": "FloatProgressModel",
            "bar_style": "success",
            "max": 4542,
            "_view_module": "@jupyter-widgets/controls",
            "_model_module_version": "1.5.0",
            "value": 4542,
            "_view_count": null,
            "_view_module_version": "1.5.0",
            "orientation": "horizontal",
            "min": 0,
            "description_tooltip": null,
            "_model_module": "@jupyter-widgets/controls",
            "layout": "IPY_MODEL_0c252e852c7b4683a635d3ff6524f65f"
          }
        },
        "a635125654bd4b08a8c39ec57bb71212": {
          "model_module": "@jupyter-widgets/controls",
          "model_name": "HTMLModel",
          "state": {
            "_view_name": "HTMLView",
            "style": "IPY_MODEL_338589824ca74c868ac62b0e85432e11",
            "_dom_classes": [],
            "description": "",
            "_model_name": "HTMLModel",
            "placeholder": "​",
            "_view_module": "@jupyter-widgets/controls",
            "_model_module_version": "1.5.0",
            "value": " 5120/? [00:00&lt;00:00, 12376.82it/s]",
            "_view_count": null,
            "_view_module_version": "1.5.0",
            "description_tooltip": null,
            "_model_module": "@jupyter-widgets/controls",
            "layout": "IPY_MODEL_b7438b60ac7b4a159124167146ddbe05"
          }
        },
        "85196cdc87da4da79f1dcc5f971f41cb": {
          "model_module": "@jupyter-widgets/controls",
          "model_name": "ProgressStyleModel",
          "state": {
            "_view_name": "StyleView",
            "_model_name": "ProgressStyleModel",
            "description_width": "initial",
            "_view_module": "@jupyter-widgets/base",
            "_model_module_version": "1.5.0",
            "_view_count": null,
            "_view_module_version": "1.2.0",
            "bar_color": null,
            "_model_module": "@jupyter-widgets/controls"
          }
        },
        "0c252e852c7b4683a635d3ff6524f65f": {
          "model_module": "@jupyter-widgets/base",
          "model_name": "LayoutModel",
          "state": {
            "_view_name": "LayoutView",
            "grid_template_rows": null,
            "right": null,
            "justify_content": null,
            "_view_module": "@jupyter-widgets/base",
            "overflow": null,
            "_model_module_version": "1.2.0",
            "_view_count": null,
            "flex_flow": null,
            "width": null,
            "min_width": null,
            "border": null,
            "align_items": null,
            "bottom": null,
            "_model_module": "@jupyter-widgets/base",
            "top": null,
            "grid_column": null,
            "overflow_y": null,
            "overflow_x": null,
            "grid_auto_flow": null,
            "grid_area": null,
            "grid_template_columns": null,
            "flex": null,
            "_model_name": "LayoutModel",
            "justify_items": null,
            "grid_row": null,
            "max_height": null,
            "align_content": null,
            "visibility": null,
            "align_self": null,
            "height": null,
            "min_height": null,
            "padding": null,
            "grid_auto_rows": null,
            "grid_gap": null,
            "max_width": null,
            "order": null,
            "_view_module_version": "1.2.0",
            "grid_template_areas": null,
            "object_position": null,
            "object_fit": null,
            "grid_auto_columns": null,
            "margin": null,
            "display": null,
            "left": null
          }
        },
        "338589824ca74c868ac62b0e85432e11": {
          "model_module": "@jupyter-widgets/controls",
          "model_name": "DescriptionStyleModel",
          "state": {
            "_view_name": "StyleView",
            "_model_name": "DescriptionStyleModel",
            "description_width": "",
            "_view_module": "@jupyter-widgets/base",
            "_model_module_version": "1.5.0",
            "_view_count": null,
            "_view_module_version": "1.2.0",
            "_model_module": "@jupyter-widgets/controls"
          }
        },
        "b7438b60ac7b4a159124167146ddbe05": {
          "model_module": "@jupyter-widgets/base",
          "model_name": "LayoutModel",
          "state": {
            "_view_name": "LayoutView",
            "grid_template_rows": null,
            "right": null,
            "justify_content": null,
            "_view_module": "@jupyter-widgets/base",
            "overflow": null,
            "_model_module_version": "1.2.0",
            "_view_count": null,
            "flex_flow": null,
            "width": null,
            "min_width": null,
            "border": null,
            "align_items": null,
            "bottom": null,
            "_model_module": "@jupyter-widgets/base",
            "top": null,
            "grid_column": null,
            "overflow_y": null,
            "overflow_x": null,
            "grid_auto_flow": null,
            "grid_area": null,
            "grid_template_columns": null,
            "flex": null,
            "_model_name": "LayoutModel",
            "justify_items": null,
            "grid_row": null,
            "max_height": null,
            "align_content": null,
            "visibility": null,
            "align_self": null,
            "height": null,
            "min_height": null,
            "padding": null,
            "grid_auto_rows": null,
            "grid_gap": null,
            "max_width": null,
            "order": null,
            "_view_module_version": "1.2.0",
            "grid_template_areas": null,
            "object_position": null,
            "object_fit": null,
            "grid_auto_columns": null,
            "margin": null,
            "display": null,
            "left": null
          }
        }
      }
    }
  },
  "cells": [
    {
      "cell_type": "markdown",
      "metadata": {
        "id": "view-in-github",
        "colab_type": "text"
      },
      "source": [
        "<a href=\"https://colab.research.google.com/github/hywkim-private/MNIST_Classifier/blob/main/mnist_classifier.ipynb\" target=\"_parent\"><img src=\"https://colab.research.google.com/assets/colab-badge.svg\" alt=\"Open In Colab\"/></a>"
      ]
    },
    {
      "cell_type": "code",
      "metadata": {
        "id": "5133dee1"
      },
      "source": [
        "import torch \n",
        "import torchvision\n",
        "import numpy as np\n",
        "import pandas as pd\n",
        "from sklearn.manifold import TSNE\n",
        "import matplotlib\n",
        "import matplotlib.pyplot as plt\n",
        "import seaborn as sns\n",
        "import torch.nn as nn\n",
        "import torch.nn.functional as F\n",
        "import torch.optim as optim\n",
        "from torchvision.datasets import MNIST\n",
        "from torchvision.transforms import ToTensor\n",
        "from torchvision.utils import make_grid\n",
        "from torch.utils.data.dataloader import DataLoader\n",
        "from torch.utils.data import random_split"
      ],
      "id": "5133dee1",
      "execution_count": 2,
      "outputs": []
    },
    {
      "cell_type": "code",
      "metadata": {
        "id": "842a5488"
      },
      "source": [
        "#define hyper parameters \n",
        "USE_CUDA = torch.cuda.is_available()\n",
        "DEVICE = torch.device(\"cuda\" if USE_CUDA else \"cpu\")\n",
        "EPOCHS = 20\n",
        "BATCH_SIZE = 20\n",
        "LEARNING_RATE = 0.1\n",
        "VAL_SIZE = 1000\n",
        "N_CLASS = 10\n",
        "TEST_SIZE = 1000"
      ],
      "id": "842a5488",
      "execution_count": 32,
      "outputs": []
    },
    {
      "cell_type": "code",
      "metadata": {
        "colab": {
          "base_uri": "https://localhost:8080/",
          "height": 754,
          "referenced_widgets": [
            "850b16e28828496ea6bde339b332a6e8",
            "64c6f8c15b4f405980f25685d833824c",
            "73636e0504074da4b0363601a3e62bba",
            "fc2d372dccb04753b12c5ad9162dbe64",
            "a241563dac3c4dd89c8e9f2869eb13dc",
            "4307245d28194b43b0226b381f521ee2",
            "89b9e6d6407643ecb2120a4c41856280",
            "e1e46e606bb14f5e94d4f2e1c6f282ab",
            "dba49ae1492f411db7e22700cc91735c",
            "a5c26d88b3a846f39afb07af94bf7850",
            "1d8107e20feb424295284b3bcfc910a6",
            "f8165ba165ce4c6ea7adc900aea578ce",
            "6a10123f4d154ed081f56bcd696292d8",
            "0b94b662f0254bb68b575b6f36e67c8c",
            "80d7e64a674843b4b4178a8d151cb6e6",
            "cb4af30634b346cd943838c265c2976a",
            "b7217129b38143e691bb47aa77395432",
            "01228e0b79f143dcb461e86e6dd46f25",
            "96404a60a0564d3e8dbef4af11efbcd7",
            "bff912f8429944279b124b55227aea16",
            "2559f668304d4c468d6c63fc90489214",
            "0ada3f0b530d4a4a95e34e7dda631dfe",
            "653be3df4b854be28127b315fe04cdce",
            "8d96b09e7008492daad733e64ccf3475",
            "e0182f82ae06405488d593536c817c37",
            "3fd6e0ebc9c54511bac01b05ae57a190",
            "165b9b4acca849339d28b75a062980d3",
            "a635125654bd4b08a8c39ec57bb71212",
            "85196cdc87da4da79f1dcc5f971f41cb",
            "0c252e852c7b4683a635d3ff6524f65f",
            "338589824ca74c868ac62b0e85432e11",
            "b7438b60ac7b4a159124167146ddbe05"
          ]
        },
        "id": "68c4114b",
        "outputId": "2356ad1e-9afd-4901-bc04-750af07854da"
      },
      "source": [
        "#download and define data sets using random split\n",
        "ds = MNIST(root='./data/', download=True, transform=ToTensor())"
      ],
      "id": "68c4114b",
      "execution_count": 4,
      "outputs": [
        {
          "output_type": "stream",
          "text": [
            "Downloading http://yann.lecun.com/exdb/mnist/train-images-idx3-ubyte.gz\n",
            "Downloading http://yann.lecun.com/exdb/mnist/train-images-idx3-ubyte.gz to ./data/MNIST/raw/train-images-idx3-ubyte.gz\n"
          ],
          "name": "stdout"
        },
        {
          "output_type": "display_data",
          "data": {
            "application/vnd.jupyter.widget-view+json": {
              "model_id": "850b16e28828496ea6bde339b332a6e8",
              "version_minor": 0,
              "version_major": 2
            },
            "text/plain": [
              "HBox(children=(FloatProgress(value=0.0, max=9912422.0), HTML(value='')))"
            ]
          },
          "metadata": {
            "tags": []
          }
        },
        {
          "output_type": "stream",
          "text": [
            "\n",
            "Extracting ./data/MNIST/raw/train-images-idx3-ubyte.gz to ./data/MNIST/raw\n",
            "\n",
            "Downloading http://yann.lecun.com/exdb/mnist/train-labels-idx1-ubyte.gz\n",
            "Downloading http://yann.lecun.com/exdb/mnist/train-labels-idx1-ubyte.gz to ./data/MNIST/raw/train-labels-idx1-ubyte.gz\n"
          ],
          "name": "stdout"
        },
        {
          "output_type": "display_data",
          "data": {
            "application/vnd.jupyter.widget-view+json": {
              "model_id": "dba49ae1492f411db7e22700cc91735c",
              "version_minor": 0,
              "version_major": 2
            },
            "text/plain": [
              "HBox(children=(FloatProgress(value=0.0, max=28881.0), HTML(value='')))"
            ]
          },
          "metadata": {
            "tags": []
          }
        },
        {
          "output_type": "stream",
          "text": [
            "\n",
            "Extracting ./data/MNIST/raw/train-labels-idx1-ubyte.gz to ./data/MNIST/raw\n",
            "\n",
            "Downloading http://yann.lecun.com/exdb/mnist/t10k-images-idx3-ubyte.gz\n",
            "Downloading http://yann.lecun.com/exdb/mnist/t10k-images-idx3-ubyte.gz to ./data/MNIST/raw/t10k-images-idx3-ubyte.gz\n",
            "Failed to download (trying next):\n",
            "HTTP Error 503: Service Unavailable\n",
            "\n",
            "Downloading https://ossci-datasets.s3.amazonaws.com/mnist/t10k-images-idx3-ubyte.gz\n",
            "Downloading https://ossci-datasets.s3.amazonaws.com/mnist/t10k-images-idx3-ubyte.gz to ./data/MNIST/raw/t10k-images-idx3-ubyte.gz\n"
          ],
          "name": "stdout"
        },
        {
          "output_type": "display_data",
          "data": {
            "application/vnd.jupyter.widget-view+json": {
              "model_id": "b7217129b38143e691bb47aa77395432",
              "version_minor": 0,
              "version_major": 2
            },
            "text/plain": [
              "HBox(children=(FloatProgress(value=0.0, max=1648877.0), HTML(value='')))"
            ]
          },
          "metadata": {
            "tags": []
          }
        },
        {
          "output_type": "stream",
          "text": [
            "\n",
            "Extracting ./data/MNIST/raw/t10k-images-idx3-ubyte.gz to ./data/MNIST/raw\n",
            "\n",
            "Downloading http://yann.lecun.com/exdb/mnist/t10k-labels-idx1-ubyte.gz\n",
            "Failed to download (trying next):\n",
            "HTTP Error 503: Service Unavailable\n",
            "\n",
            "Downloading https://ossci-datasets.s3.amazonaws.com/mnist/t10k-labels-idx1-ubyte.gz\n",
            "Downloading https://ossci-datasets.s3.amazonaws.com/mnist/t10k-labels-idx1-ubyte.gz to ./data/MNIST/raw/t10k-labels-idx1-ubyte.gz\n"
          ],
          "name": "stdout"
        },
        {
          "output_type": "display_data",
          "data": {
            "application/vnd.jupyter.widget-view+json": {
              "model_id": "e0182f82ae06405488d593536c817c37",
              "version_minor": 0,
              "version_major": 2
            },
            "text/plain": [
              "HBox(children=(FloatProgress(value=0.0, max=4542.0), HTML(value='')))"
            ]
          },
          "metadata": {
            "tags": []
          }
        },
        {
          "output_type": "stream",
          "text": [
            "\n",
            "Extracting ./data/MNIST/raw/t10k-labels-idx1-ubyte.gz to ./data/MNIST/raw\n",
            "\n"
          ],
          "name": "stdout"
        },
        {
          "output_type": "stream",
          "text": [
            "/usr/local/lib/python3.7/dist-packages/torchvision/datasets/mnist.py:498: UserWarning: The given NumPy array is not writeable, and PyTorch does not support non-writeable tensors. This means you can write to the underlying (supposedly non-writeable) NumPy array using the tensor. You may want to copy the array to protect its data or make it writeable before converting it to a tensor. This type of warning will be suppressed for the rest of this program. (Triggered internally at  /pytorch/torch/csrc/utils/tensor_numpy.cpp:180.)\n",
            "  return torch.from_numpy(parsed.astype(m[2], copy=False)).view(*s)\n"
          ],
          "name": "stderr"
        }
      ]
    },
    {
      "cell_type": "code",
      "metadata": {
        "id": "f99f6fad"
      },
      "source": [
        "train_ds, val_ds, test_ds = random_split(ds, [len(ds)-VAL_SIZE-TEST_SIZE, VAL_SIZE, TEST_SIZE])"
      ],
      "id": "f99f6fad",
      "execution_count": 5,
      "outputs": []
    },
    {
      "cell_type": "code",
      "metadata": {
        "id": "0b3e5245"
      },
      "source": [
        "#define the dataloader \n",
        "train_dl = DataLoader(train_ds,batch_size=BATCH_SIZE,shuffle=True)\n",
        "val_dl = DataLoader(val_ds,batch_size=BATCH_SIZE,shuffle=True)\n",
        "test_dl = DataLoader(test_ds,batch_size=BATCH_SIZE,shuffle=True)\n",
        "#this is to validate model with samples from train_ds (since the original set is too large)\n",
        "train_sample, dump = random_split(train_ds, [VAL_SIZE, len(train_ds)-VAL_SIZE])\n",
        "train_sample_dl = DataLoader(train_sample, batch_size=BATCH_SIZE, shuffle=True)"
      ],
      "id": "0b3e5245",
      "execution_count": 6,
      "outputs": []
    },
    {
      "cell_type": "code",
      "metadata": {
        "colab": {
          "base_uri": "https://localhost:8080/",
          "height": 36
        },
        "id": "c91f6488",
        "outputId": "654f5dd4-8d0d-4ffe-a049-2cb93ade6279"
      },
      "source": [
        "\"\"\"visualize/check if we have the datasets rights \n",
        "for img_set, label_set in train_dl:\n",
        "    plt.figure(figsize=(5,3))\n",
        "    plt.imshow(img.permute(1,2,0))\"\"\"\n"
      ],
      "id": "c91f6488",
      "execution_count": 7,
      "outputs": [
        {
          "output_type": "execute_result",
          "data": {
            "application/vnd.google.colaboratory.intrinsic+json": {
              "type": "string"
            },
            "text/plain": [
              "'visualize/check if we have the datasets rights \\nfor img_set, label_set in train_dl:\\n    plt.figure(figsize=(5,3))\\n    plt.imshow(img.permute(1,2,0))'"
            ]
          },
          "metadata": {
            "tags": []
          },
          "execution_count": 7
        }
      ]
    },
    {
      "cell_type": "code",
      "metadata": {
        "id": "7ad444a5"
      },
      "source": [
        ""
      ],
      "id": "7ad444a5",
      "execution_count": 7,
      "outputs": []
    },
    {
      "cell_type": "code",
      "metadata": {
        "id": "bfa53102"
      },
      "source": [
        "\n",
        "        \n",
        "#A class to run and evaluate the network\n",
        "class network(nn.Module):\n",
        "    def __init__(self):\n",
        "        super(network, self).__init__()\n",
        "        #A simple network built for testing purposes\n",
        "        #The architecture for the network has been archieved from A wiki documentation\n",
        "        self.model = nn.Sequential(\n",
        "            #w=24\n",
        "            nn.Conv2d(in_channels=1, out_channels=6, kernel_size=5, stride=1, padding=2),\n",
        "            nn.Tanh(),\n",
        "            #w=12\n",
        "            nn.MaxPool2d(kernel_size=2, stride=2),\n",
        "            #w=8\n",
        "            nn.Conv2d(in_channels=6, out_channels=16, kernel_size=5, stride=1),\n",
        "            nn.Tanh(),\n",
        "            #w=4\n",
        "            nn.MaxPool2d(kernel_size=2, stride=2),\n",
        "            nn.Conv2d(in_channels=16, out_channels=120, kernel_size=5, stride=1),\n",
        "            nn.Tanh(),\n",
        "            nn.Flatten(),\n",
        "            nn.Linear(in_features=120, out_features=84, bias=True),\n",
        "            nn.Tanh(),\n",
        "            nn.Linear(in_features=84, out_features=N_CLASS, bias=True),\n",
        "        )\n",
        "        self.val_loss = []\n",
        "        self.val_accuracy = []\n",
        "        self.test_loss = []\n",
        "        self.test_accuracy = []\n",
        "        self.train_loss = []\n",
        "        self.train_accuracy = []\n",
        "        self.failed_tests_train =[]\n",
        "        self.failed_tests_valid =[]\n",
        "        self.failed_tests_test =[]\n",
        "    #propagate a network for one cycle\n",
        "    #input: batch of images\n",
        "    #return: the result value of the network, the loss value\n",
        "    #NOTE: We will use the cross-entropy validation\n",
        "    def forward_propagate(self, batch):\n",
        "        result = self.model(batch).to(DEVICE)\n",
        "        return result\n",
        "    \n",
        "    #backward propoagate and update the parameters using gradients\n",
        "    #input: output object from the forward_propagate function\n",
        "    #input: and optimizer object that contains parameters\n",
        "    def backward_propagate(self, loss, optimizer):\n",
        "        loss.backward()\n",
        "        optimizer.step()\n",
        "        optimizer.zero_grad()\n",
        "    \n",
        "    #an helper function for fit that trains for a single batch\n",
        "    def fit_batch(self, optimizer):\n",
        "        error = []\n",
        "        #take each batch of examples and feed it to the propagation loop\n",
        "        for index, (image, label) in enumerate(train_dl):\n",
        "            image, label = image.to(DEVICE), label.to(DEVICE)\n",
        "            #forward propagate (single iteration)\n",
        "            result = self.forward_propagate(image)\n",
        "            loss = F.cross_entropy(result, label)\n",
        "            #backpropagate\n",
        "            self.backward_propagate(loss, optimizer)\n",
        "            error.append(loss)\n",
        "        return error\n",
        "    \n",
        "    \n",
        "    #train the model and record validation test results\n",
        "    def fit(self):\n",
        "        TRAIN_SET = 0\n",
        "        VALIDATION_SET = 1\n",
        "        TEST_SET = 2\n",
        "        #define the optimizer to pass into backward propagation--we will use SGD for the purpose of running semi-batch descent\n",
        "        optimizer = optim.SGD(self.model.parameters(),lr=LEARNING_RATE)\n",
        "        #an array of loss and aggregates for train set\n",
        "        loss_aggregate_t = []\n",
        "        accuracy_aggregate_t = []\n",
        "        #an array of loss and aggregates for validation set\n",
        "        loss_aggregate_v = []\n",
        "        accuracy_aggregate_v = []\n",
        "        #an array of loss and aggregates for test set\n",
        "        loss_aggregate_te = []\n",
        "        accuracy_aggregate_te = []\n",
        "        for epoch in range(EPOCHS):\n",
        "            #empty cuda memory\n",
        "            if USE_CUDA:\n",
        "              torch.cuda.empty_cache()\n",
        "            error = self.fit_batch(optimizer)\n",
        "            train_accuracy, train_loss, failed_tests_train = self.validate(TRAIN_SET)\n",
        "            val_accuracy, val_loss, failed_tests_val = self.validate(VALIDATION_SET)\n",
        "            test_accuracy, test_loss, failed_tests_test = self.validate(TEST_SET)\n",
        "            loss_aggregate_t.append(train_loss.tolist())\n",
        "            accuracy_aggregate_t.append(train_accuracy.tolist())\n",
        "            loss_aggregate_v.append(val_loss.tolist())\n",
        "            accuracy_aggregate_v.append(val_accuracy.tolist())\n",
        "            loss_aggregate_te.append(test_loss.tolist())\n",
        "            accuracy_aggregate_te.append(test_accuracy.tolist())\n",
        "            print(f\"----------Epoch {epoch}----------\")\n",
        "            #print(f\"The loss for the TRAINSET is: {train_loss}\")\n",
        "            #print(f\"The accuracy of the model on TRAINSET is {train_accuracy}%\")\n",
        "            print(f\"The loss for the VALIDSET is: {val_loss}\")\n",
        "            print(f\"The accuracy of the model on VALIDSET is {val_accuracy}%\")\n",
        "            print(\"----------------------------------\")\n",
        "        #update the self parameters\n",
        "        self.val_loss = loss_aggregate_v\n",
        "        self.val_accuracy = accuracy_aggregate_v\n",
        "        self.test_loss = loss_aggregate_te\n",
        "        self.test_accuracy = accuracy_aggregate_te\n",
        "        self.train_loss = loss_aggregate_t\n",
        "        self.train_accuracy = accuracy_aggregate_t\n",
        "        self.failed_tests_train = failed_tests_train\n",
        "        self.failed_tests_val = failed_tests_val\n",
        "        self.failed_tests_test = failed_tests_test\n",
        "        \"\"\"validate for a batch of inputs\n",
        "          def validate_batch(self, batch ):\n",
        "            image, label = batch\n",
        "            result = self.forward_propagate(image)\n",
        "            loss = F.cross_entropy(result, label)\n",
        "            prediction = torch.argmax(result, dim=1)\n",
        "            accurate = torch.sum(label == prediction)\n",
        "            accuracy = (accurate * 100)/ (len(label))\n",
        "            avg_loss = sum(loss) / len(test_loss)\n",
        "            return avg_loss, accuracy\"\"\"\n",
        "\n",
        "    #predict the results of the trained model using validation sets\n",
        "    #if set index ==0, validate for the train set, if set indexx ==1, do it for the validation set \n",
        "    def validate(self, set_index):\n",
        "        #We will initialize with a 0 to avoid divide by zero error\n",
        "        test_loss = [0]\n",
        "        #has 1 if the iteration yielded correct data, 0 if not\n",
        "        correct_or_wrong = 0\n",
        "        #set which data loader to use\n",
        "        if set_index == 0:\n",
        "            set_dl = train_sample_dl\n",
        "        elif set_index == 1:\n",
        "            set_dl = val_dl\n",
        "        elif set_index == 2:\n",
        "            set_dl = test_dl\n",
        "        #1xnx2 matrix with predicted fail values and its true labels\n",
        "        failed_tests = []\n",
        "        #iterate over the batch of validation datasets and check the accuracy\n",
        "        for index, (image, label) in enumerate(set_dl):\n",
        "            image, label = image.to(DEVICE), label.to(DEVICE)\n",
        "            result = self.forward_propagate(image)\n",
        "            loss = F.cross_entropy(result, label)\n",
        "            prediction = torch.argmax(result, dim=1)\n",
        "            accurate = torch.sum(label == prediction)\n",
        "            #we will record the failed label and its predicted value\n",
        "            for i, lab in enumerate(label):\n",
        "              if lab != prediction[i]:\n",
        "                failed_tests.append([lab.tolist(), prediction[i].tolist()])\n",
        "            correct_or_wrong += accurate\n",
        "            test_loss.append(loss)\n",
        "        accuracy = (correct_or_wrong * 100)/ ((index+1) * BATCH_SIZE)\n",
        "        avg_loss = sum(test_loss) / len(test_loss)\n",
        "        return accuracy, avg_loss, failed_tests\n",
        "   "
      ],
      "id": "bfa53102",
      "execution_count": 26,
      "outputs": []
    },
    {
      "cell_type": "code",
      "metadata": {
        "colab": {
          "base_uri": "https://localhost:8080/"
        },
        "id": "5ceea6cd",
        "outputId": "7c7af466-2083-4a97-a47a-b266197b54bf"
      },
      "source": [
        "torch.cuda.empty_cache()\n",
        "Net = network().to(DEVICE)\n",
        "Net.fit()"
      ],
      "id": "5ceea6cd",
      "execution_count": 33,
      "outputs": [
        {
          "output_type": "stream",
          "text": [
            "----------Epoch 0----------\n",
            "The loss for the VALIDSET is: 0.03446299210190773\n",
            "The accuracy of the model on VALIDSET is 98.9000015258789%\n",
            "----------------------------------\n",
            "----------Epoch 1----------\n",
            "The loss for the VALIDSET is: 0.02647792175412178\n",
            "The accuracy of the model on VALIDSET is 99.10000610351562%\n",
            "----------------------------------\n",
            "----------Epoch 2----------\n",
            "The loss for the VALIDSET is: 0.016649732366204262\n",
            "The accuracy of the model on VALIDSET is 99.4000015258789%\n",
            "----------------------------------\n",
            "----------Epoch 3----------\n",
            "The loss for the VALIDSET is: 0.02372211031615734\n",
            "The accuracy of the model on VALIDSET is 99.10000610351562%\n",
            "----------------------------------\n",
            "----------Epoch 4----------\n",
            "The loss for the VALIDSET is: 0.020116614177823067\n",
            "The accuracy of the model on VALIDSET is 99.4000015258789%\n",
            "----------------------------------\n",
            "----------Epoch 5----------\n",
            "The loss for the VALIDSET is: 0.021811947226524353\n",
            "The accuracy of the model on VALIDSET is 99.60000610351562%\n",
            "----------------------------------\n",
            "----------Epoch 6----------\n",
            "The loss for the VALIDSET is: 0.021854504942893982\n",
            "The accuracy of the model on VALIDSET is 99.30000305175781%\n",
            "----------------------------------\n",
            "----------Epoch 7----------\n",
            "The loss for the VALIDSET is: 0.017783982679247856\n",
            "The accuracy of the model on VALIDSET is 99.30000305175781%\n",
            "----------------------------------\n",
            "----------Epoch 8----------\n",
            "The loss for the VALIDSET is: 0.02011740207672119\n",
            "The accuracy of the model on VALIDSET is 99.4000015258789%\n",
            "----------------------------------\n",
            "----------Epoch 9----------\n",
            "The loss for the VALIDSET is: 0.019479045644402504\n",
            "The accuracy of the model on VALIDSET is 99.4000015258789%\n",
            "----------------------------------\n",
            "----------Epoch 10----------\n",
            "The loss for the VALIDSET is: 0.01741885580122471\n",
            "The accuracy of the model on VALIDSET is 99.70000457763672%\n",
            "----------------------------------\n",
            "----------Epoch 11----------\n",
            "The loss for the VALIDSET is: 0.017364012077450752\n",
            "The accuracy of the model on VALIDSET is 99.70000457763672%\n",
            "----------------------------------\n",
            "----------Epoch 12----------\n",
            "The loss for the VALIDSET is: 0.016284838318824768\n",
            "The accuracy of the model on VALIDSET is 99.50000762939453%\n",
            "----------------------------------\n",
            "----------Epoch 13----------\n",
            "The loss for the VALIDSET is: 0.016471976414322853\n",
            "The accuracy of the model on VALIDSET is 99.60000610351562%\n",
            "----------------------------------\n",
            "----------Epoch 14----------\n",
            "The loss for the VALIDSET is: 0.01655721664428711\n",
            "The accuracy of the model on VALIDSET is 99.50000762939453%\n",
            "----------------------------------\n",
            "----------Epoch 15----------\n",
            "The loss for the VALIDSET is: 0.015093924477696419\n",
            "The accuracy of the model on VALIDSET is 99.50000762939453%\n",
            "----------------------------------\n",
            "----------Epoch 16----------\n",
            "The loss for the VALIDSET is: 0.016185348853468895\n",
            "The accuracy of the model on VALIDSET is 99.60000610351562%\n",
            "----------------------------------\n",
            "----------Epoch 17----------\n",
            "The loss for the VALIDSET is: 0.01628507487475872\n",
            "The accuracy of the model on VALIDSET is 99.50000762939453%\n",
            "----------------------------------\n",
            "----------Epoch 18----------\n",
            "The loss for the VALIDSET is: 0.015819275751709938\n",
            "The accuracy of the model on VALIDSET is 99.60000610351562%\n",
            "----------------------------------\n",
            "----------Epoch 19----------\n",
            "The loss for the VALIDSET is: 0.016184544190764427\n",
            "The accuracy of the model on VALIDSET is 99.60000610351562%\n",
            "----------------------------------\n"
          ],
          "name": "stdout"
        }
      ]
    },
    {
      "cell_type": "code",
      "metadata": {
        "cellView": "form",
        "id": "97d90161"
      },
      "source": [
        "#@title\n",
        "#plot the loss of test and validation set as we train data for each epoch\n",
        "def plot_loss(train_loss, val_loss):\n",
        "    plt.plot(train_loss, 'b-x', linewidth=4, markersize=12, markerwidth=4)\n",
        "    plt.plot(val_loss, 'r--o', linewidth=4, markersize=12, markerwidth=4)\n",
        "    plt.legend(['Train Loss', 'Val Loss'])\n",
        "    plt.ylabel('Cross Entropy Loss')\n",
        "    plt.xlabel('Epoch')\n",
        "    \n",
        "\n",
        "    "
      ],
      "id": "97d90161",
      "execution_count": 19,
      "outputs": []
    },
    {
      "cell_type": "code",
      "metadata": {
        "id": "55f019ec"
      },
      "source": [
        "class visualization (network): \n",
        "  def __init__(self,network):\n",
        "          super().__init__()\n",
        "\n",
        "  #A function that extracts weights from the cnn linear function layer \n",
        "  def extract_linear_weights(self, layer_index):\n",
        "    target_layer = self.model[layer_index]\n",
        "    #initiate extraction only when the layer index indicates a Linear layer\n",
        "    if isinstance(target_layer, nn.Linear):\n",
        "      weight = target_layer.weight.data\n",
        "      print({weight})\n",
        "    else:\n",
        "      print(\"ERROR: Input layer_index of a linear function\")\n",
        "      return\n",
        "    return weight\n",
        "  \n",
        "  \n",
        "  #Extract the feature map of the input data after it passed through the given layers\n",
        "  def extract_input_data(self, layer_index, image):\n",
        "    output = image\n",
        "    #iterate over the model and run the input image\n",
        "    for i in range(layer_index):\n",
        "      target_layer = self.model[i]\n",
        "      output = target_layer(output)\n",
        "      output = output.data\n",
        "      #print(output.shape)\n",
        "    return output\n",
        "\n",
        "  #visualize the input feature as it is represented by the convolutional layer\n",
        "  def visualize_feature(self, image, label, layer_index):\n",
        "    image = torch.unsqueeze(image, 0)\n",
        "    output = vis_net.extract_input_data(layer_index, image)\n",
        "\n",
        "    #the pseudo code for visualizing the feature vectors\n",
        "    squeezed_output = output.squeeze(0)\n",
        "    for index, image in enumerate(squeezed_output):\n",
        "      plt.figure(figsize=(10, 10))\n",
        "      plt.subplot(4,4, index+1)\n",
        "      plt.imshow(image, cmap='gray')\n",
        "      plt.show\n",
        "\n",
        "  #visualize the linear layer using dimension reduction (tsne)\n",
        "  def visualize_tsne(self):\n",
        "    #Compute all the necessary values for the tsne operation\n",
        "    labels = torch.Tensor\n",
        "    for index, (image, label) in enumerate(val_dl):\n",
        "      output = self.extract_input_data(11, image)\n",
        "      output = np.array(output)\n",
        "      n,m = output.shape\n",
        "      if index == 0:\n",
        "        feature = np.zeros((BATCH_SIZE*len(val_dl)-1,m))\n",
        "        labels = np.zeros((BATCH_SIZE*len(val_dl)-1,1))\n",
        "      for i in range(BATCH_SIZE-1):\n",
        "          feature[BATCH_SIZE*(index) + i,:] = output[i]\n",
        "          labels[BATCH_SIZE*(index) + i,:] = label[i]\n",
        "    #run tsne using the sikit learn library\n",
        "    feature_embedded = TSNE(n_components = 2, n_iter=7000,early_exaggeration=40,perplexity=100,learning_rate=6).fit_transform(feature)\n",
        "    #plot the representation using scatter plot\n",
        "    feature_embedded_df = pd.DataFrame(data=feature_embedded, columns=['dim1','dim2'])\n",
        "    label_df = pd.DataFrame(data=labels,columns=['label'])\n",
        "    feature_label_df = pd.concat((feature_embedded_df,label_df),axis=1)\n",
        "    plt.title(\"T-SNE Representation of the 84 Dimensional Linear Layer\")\n",
        "    sns.scatterplot(data=feature_label_df, hue='label', palette=sns.color_palette(\"hls\", 10),x='dim1', y='dim2',size=6)\n",
        "  \n",
        "  #visualize convergence for train, valid, and test sets\n",
        "  def visualize_convergence(self,val_loss, train_loss, test_loss):\n",
        "    plt.title(\"Loss Convergence\")\n",
        "    plt.xlabel(\"Iteration\")\n",
        "    plt.ylabel(\"Loss\")\n",
        "    X = np.arange(EPOCHS)\n",
        "    plt.plot(X,val_loss,label=\"val_loss\") \n",
        "    plt.plot(X,train_loss,label=\"train_loss\") \n",
        "    plt.plot(X,test_loss,label=\"test_loss\") \n",
        "    plt.legend()\n",
        "    plt.show()\n"
      ],
      "id": "55f019ec",
      "execution_count": 36,
      "outputs": []
    },
    {
      "cell_type": "code",
      "metadata": {
        "colab": {
          "base_uri": "https://localhost:8080/",
          "height": 334
        },
        "id": "3bdc16a6",
        "outputId": "ea222641-10fe-4983-e053-76a13c263cda"
      },
      "source": [
        "vis_net = visualization(Net)\n",
        "print(Net.val_loss)\n",
        "vis_net.visualize_convergence(Net.val_loss, Net.train_loss, Net.test_loss)"
      ],
      "id": "3bdc16a6",
      "execution_count": 35,
      "outputs": [
        {
          "output_type": "stream",
          "text": [
            "[0.03446299210190773, 0.02647792175412178, 0.016649732366204262, 0.02372211031615734, 0.020116614177823067, 0.021811947226524353, 0.021854504942893982, 0.017783982679247856, 0.02011740207672119, 0.019479045644402504, 0.01741885580122471, 0.017364012077450752, 0.016284838318824768, 0.016471976414322853, 0.01655721664428711, 0.015093924477696419, 0.016185348853468895, 0.01628507487475872, 0.015819275751709938, 0.016184544190764427]\n"
          ],
          "name": "stdout"
        },
        {
          "output_type": "display_data",
          "data": {
            "image/png": "[encoded data removed]",
            "text/plain": [
              "<Figure size 432x288 with 1 Axes>"
            ]
          },
          "metadata": {
            "tags": [],
            "needs_background": "light"
          }
        }
      ]
    },
    {
      "cell_type": "code",
      "metadata": {
        "id": "6398ade6"
      },
      "source": [
        ""
      ],
      "id": "6398ade6",
      "execution_count": 21,
      "outputs": []
    },
    {
      "cell_type": "code",
      "metadata": {
        "colab": {
          "base_uri": "https://localhost:8080/"
        },
        "id": "cm4qBrTAobFV",
        "outputId": "491ab808-65b6-4731-a0ce-679fe8830025"
      },
      "source": [
        "print(Net.failed_tests_val)\n",
        "print(Net.failed_tests_train)\n",
        "print(Net.failed_tests_test)"
      ],
      "id": "cm4qBrTAobFV",
      "execution_count": 22,
      "outputs": [
        {
          "output_type": "stream",
          "text": [
            "[[7, 9], [9, 3], [8, 6], [8, 0], [0, 6], [5, 3]]\n",
            "[]\n",
            "[[2, 7], [8, 6], [3, 9], [8, 6], [9, 5], [9, 4], [9, 5], [7, 5], [4, 1], [3, 8]]\n"
          ],
          "name": "stdout"
        }
      ]
    },
    {
      "cell_type": "code",
      "metadata": {
        "colab": {
          "base_uri": "https://localhost:8080/",
          "height": 295
        },
        "id": "SJv26eiTxBZn",
        "outputId": "6bf052df-9cef-4c1b-f795-155a19a4fe58"
      },
      "source": [
        "vis_net.visualize_tsne()\n",
        "  "
      ],
      "id": "SJv26eiTxBZn",
      "execution_count": 37,
      "outputs": [
        {
          "output_type": "display_data",
          "data": {
            "image/png": "[encoded data removed]",
            "text/plain": [
              "<Figure size 432x288 with 1 Axes>"
            ]
          },
          "metadata": {
            "tags": [],
            "needs_background": "light"
          }
        }
      ]
    },
    {
      "cell_type": "code",
      "metadata": {
        "id": "itWYNzs4NdIN",
        "colab": {
          "base_uri": "https://localhost:8080/",
          "height": 923
        },
        "outputId": "82a7f85a-1e38-4769-b5b3-b58112c2def3"
      },
      "source": [
        "image, label = ds[19]\n",
        "vis_net.visualize_feature(image, label, 2)"
      ],
      "id": "itWYNzs4NdIN",
      "execution_count": 52,
      "outputs": [
        {
          "output_type": "display_data",
          "data": {
            "image/png": "[encoded data removed]",
            "text/plain": [
              "<Figure size 720x720 with 1 Axes>"
            ]
          },
          "metadata": {
            "tags": [],
            "needs_background": "light"
          }
        },
        {
          "output_type": "display_data",
          "data": {
            "image/png": "[encoded data removed]",
            "text/plain": [
              "<Figure size 720x720 with 1 Axes>"
            ]
          },
          "metadata": {
            "tags": [],
            "needs_background": "light"
          }
        },
        {
          "output_type": "display_data",
          "data": {
            "image/png": "[encoded data removed]",
            "text/plain": [
              "<Figure size 720x720 with 1 Axes>"
            ]
          },
          "metadata": {
            "tags": [],
            "needs_background": "light"
          }
        },
        {
          "output_type": "display_data",
          "data": {
            "image/png": "[encoded data removed]",
            "text/plain": [
              "<Figure size 720x720 with 1 Axes>"
            ]
          },
          "metadata": {
            "tags": [],
            "needs_background": "light"
          }
        },
        {
          "output_type": "display_data",
          "data": {
            "image/png": "[encoded data removed]",
            "text/plain": [
              "<Figure size 720x720 with 1 Axes>"
            ]
          },
          "metadata": {
            "tags": [],
            "needs_background": "light"
          }
        },
        {
          "output_type": "display_data",
          "data": {
            "image/png": "[encoded data removed]",
            "text/plain": [
              "<Figure size 720x720 with 1 Axes>"
            ]
          },
          "metadata": {
            "tags": [],
            "needs_background": "light"
          }
        }
      ]
    },
    {
      "cell_type": "code",
      "metadata": {
        "colab": {
          "base_uri": "https://localhost:8080/",
          "height": 923
        },
        "id": "Uf9azuvIe-nt",
        "outputId": "cf8fc5fd-8167-408c-bf6e-6ac025ffbb3e"
      },
      "source": [
        "image, label = ds[31]\n",
        "vis_net.visualize_feature(image, label, 2)"
      ],
      "id": "Uf9azuvIe-nt",
      "execution_count": 64,
      "outputs": [
        {
          "output_type": "display_data",
          "data": {
            "image/png": "[encoded data removed]",
            "text/plain": [
              "<Figure size 720x720 with 1 Axes>"
            ]
          },
          "metadata": {
            "tags": [],
            "needs_background": "light"
          }
        },
        {
          "output_type": "display_data",
          "data": {
            "image/png": "[encoded data removed]",
            "text/plain": [
              "<Figure size 720x720 with 1 Axes>"
            ]
          },
          "metadata": {
            "tags": [],
            "needs_background": "light"
          }
        },
        {
          "output_type": "display_data",
          "data": {
            "image/png": "[encoded data removed]",
            "text/plain": [
              "<Figure size 720x720 with 1 Axes>"
            ]
          },
          "metadata": {
            "tags": [],
            "needs_background": "light"
          }
        },
        {
          "output_type": "display_data",
          "data": {
            "image/png": "[encoded data removed]",
            "text/plain": [
              "<Figure size 720x720 with 1 Axes>"
            ]
          },
          "metadata": {
            "tags": [],
            "needs_background": "light"
          }
        },
        {
          "output_type": "display_data",
          "data": {
            "image/png": "[encoded data removed]",
            "text/plain": [
              "<Figure size 720x720 with 1 Axes>"
            ]
          },
          "metadata": {
            "tags": [],
            "needs_background": "light"
          }
        },
        {
          "output_type": "display_data",
          "data": {
            "image/png": "[encoded data removed]",
            "text/plain": [
              "<Figure size 720x720 with 1 Axes>"
            ]
          },
          "metadata": {
            "tags": [],
            "needs_background": "light"
          }
        }
      ]
    },
    {
      "cell_type": "code",
      "metadata": {
        "id": "KLCuSaF3um4W"
      },
      "source": [
        ""
      ],
      "id": "KLCuSaF3um4W",
      "execution_count": null,
      "outputs": []
    }
  ]
}